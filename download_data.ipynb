{
 "cells": [
  {
   "cell_type": "code",
   "metadata": {
    "ExecuteTime": {
     "end_time": "2025-01-09T20:33:47.916548Z",
     "start_time": "2025-01-09T20:33:45.946742Z"
    }
   },
   "source": [
    "import os\n",
    "import rdata\n",
    "import pandas as pd\n",
    "import urllib.request\n",
    "import warnings\n",
    "warnings.filterwarnings(\"ignore\")"
   ],
   "outputs": [],
   "execution_count": 1
  },
  {
   "cell_type": "code",
   "metadata": {
    "ExecuteTime": {
     "end_time": "2025-01-09T20:33:59.067612Z",
     "start_time": "2025-01-09T20:33:59.057444Z"
    }
   },
   "source": [
    "# Constantes\n",
    "DATA_FOLDER = \"data\"\n",
    "CSV_OUTPUT_FOLDER = \"csv_output\"\n",
    "RDA_FILES = [\n",
    "    \"Barcelona_POIS.rda\", \"Barcelona_Polygons.rda\", \"Barcelona_Sale.rda\",\n",
    "    \"Madrid_POIS.rda\", \"Madrid_Polygons.rda\", \"Madrid_Sale.rda\",\n",
    "    \"Valencia_POIS.rda\", \"Valencia_Polygons.rda\", \"Valencia_Sale.rda\",\n",
    "    \"properties_by_district.rda\"\n",
    "]\n",
    "BASE_URL = \"https://github.com/paezha/idealista18/raw/master/data/\"\n",
    "\n",
    "\n",
    "def download_rdata():\n",
    "    \"\"\"\n",
    "    Download .rda files from the specified repository, skipping files that already exist.\n",
    "    \"\"\"\n",
    "    os.makedirs(DATA_FOLDER, exist_ok=True)\n",
    "\n",
    "    for file_name in RDA_FILES:\n",
    "        file_path = os.path.join(DATA_FOLDER, file_name)\n",
    "        if not os.path.isfile(file_path):\n",
    "            urllib.request.urlretrieve(BASE_URL + file_name, file_path)\n",
    "            print(f\"Downloaded: {file_name}\")\n",
    "        else:\n",
    "            print(f\"File already exists: {file_name}\")\n",
    "\n",
    "def read_rda_file(file_path):\n",
    "    \"\"\"\n",
    "    Read an .rda file and return its converted data as a dictionary.\n",
    "    \"\"\"\n",
    "    parsed_data = rdata.parser.parse_file(file_path)\n",
    "    return rdata.conversion.convert(parsed_data, default_encoding=\"utf-8\")\n",
    "\n",
    "def convert_rda_to_csv(input_folder, output_folder):\n",
    "    \"\"\"\n",
    "    Convert all .rda files in the input folder to CSV format.\n",
    "    \"\"\"\n",
    "    os.makedirs(output_folder, exist_ok=True)\n",
    "\n",
    "    for file_name in os.listdir(input_folder):\n",
    "        if file_name.endswith(\".rda\"):\n",
    "            file_path = os.path.join(input_folder, file_name)\n",
    "            converted_data = read_rda_file(file_path)\n",
    "\n",
    "            for obj_name, data in converted_data.items():\n",
    "                if isinstance(data, pd.DataFrame):\n",
    "                    output_csv_path = os.path.join(output_folder, f\"{obj_name}.csv\")\n",
    "                    data.to_csv(output_csv_path, index=False)\n",
    "                    print(f\"Saved to CSV: {output_csv_path}\")\n",
    "                else:\n",
    "                    print(f\"Skipped non-DataFrame object: {obj_name}\")\n",
    "\n",
    "\n",
    "\n"
   ],
   "outputs": [],
   "execution_count": 4
  },
  {
   "cell_type": "code",
   "metadata": {
    "ExecuteTime": {
     "end_time": "2025-01-09T20:35:15.030649Z",
     "start_time": "2025-01-09T20:34:05.416649Z"
    }
   },
   "source": [
    "if __name__ == \"__main__\":\n",
    "    # Download .rda files\n",
    "    download_rdata()\n",
    "\n",
    "    # Convert .rda files to CSV\n",
    "    print(\"\\nConverting .rda files to CSV...\\n\")\n",
    "    convert_rda_to_csv(DATA_FOLDER, CSV_OUTPUT_FOLDER)"
   ],
   "outputs": [
    {
     "name": "stdout",
     "output_type": "stream",
     "text": [
      "Downloaded: Barcelona_POIS.rda\n",
      "Downloaded: Barcelona_Polygons.rda\n",
      "Downloaded: Barcelona_Sale.rda\n",
      "Downloaded: Madrid_POIS.rda\n",
      "Downloaded: Madrid_Polygons.rda\n",
      "Downloaded: Madrid_Sale.rda\n",
      "Downloaded: Valencia_POIS.rda\n",
      "Downloaded: Valencia_Polygons.rda\n",
      "Downloaded: Valencia_Sale.rda\n",
      "Downloaded: properties_by_district.rda\n",
      "\n",
      "Converting .rda files to CSV...\n",
      "\n",
      "Skipped non-DataFrame object: Barcelona_POIS\n",
      "Saved to CSV: csv_output\\Barcelona_Polygons.csv\n",
      "Saved to CSV: csv_output\\Barcelona_Sale.csv\n",
      "Skipped non-DataFrame object: Madrid_POIS\n",
      "Saved to CSV: csv_output\\Madrid_Polygons.csv\n",
      "Saved to CSV: csv_output\\Madrid_Sale.csv\n",
      "Saved to CSV: csv_output\\properties_by_district.csv\n",
      "Skipped non-DataFrame object: Valencia_POIS\n",
      "Saved to CSV: csv_output\\Valencia_Polygons.csv\n",
      "Saved to CSV: csv_output\\Valencia_Sale.csv\n"
     ]
    }
   ],
   "execution_count": 5
  },
  {
   "metadata": {},
   "cell_type": "code",
   "outputs": [],
   "execution_count": null,
   "source": ""
  }
 ],
 "metadata": {
  "kernelspec": {
   "display_name": "tfm",
   "language": "python",
   "name": "python3"
  },
  "language_info": {
   "codemirror_mode": {
    "name": "ipython",
    "version": 3
   },
   "file_extension": ".py",
   "mimetype": "text/x-python",
   "name": "python",
   "nbconvert_exporter": "python",
   "pygments_lexer": "ipython3",
   "version": "3.11.11"
  }
 },
 "nbformat": 4,
 "nbformat_minor": 2
}
